{
 "cells": [
  {
   "cell_type": "markdown",
   "metadata": {},
   "source": [
    "Modulo 5"
   ]
  },
  {
   "cell_type": "code",
   "execution_count": 2,
   "metadata": {},
   "outputs": [
    {
     "name": "stdout",
     "output_type": "stream",
     "text": [
      "resultado en KM 628949330.0\n",
      "resultado en millas 390577533.93\n"
     ]
    }
   ],
   "source": [
    "#ejercico 1\n",
    "distanciaP1=float(input(\"ingresa la distancia del planeta 1\"))\n",
    "distanciaP2=float(input(\"ingresa la distancia del planeta 2\"))\n",
    "d=distanciaP2-distanciaP1\n",
    "if d<0:\n",
    "    d*(-1)\n",
    "print(\"resultado en KM\",d)\n",
    "print(\"resultado en millas\",d*.621)"
   ]
  },
  {
   "cell_type": "code",
   "execution_count": 3,
   "metadata": {},
   "outputs": [
    {
     "name": "stdout",
     "output_type": "stream",
     "text": [
      "resultado en KM 628949330.0\n",
      "resultado en millas 390577533.93\n"
     ]
    }
   ],
   "source": [
    "#ejercicio 2\n",
    "DS1=input(\"ingrese la distancia al sol del primer planeta\")\n",
    "DS2=input(\"ingrese la distancia al sol del segundo planeta\")\n",
    "DS1=int(DS1)\n",
    "DS2=int(DS2)\n",
    "d2=DS2-DS1\n",
    "if d<0:\n",
    "    d*(-1)\n",
    "print(\"resultado en KM\",abs(d))\n",
    "print(\"resultado en millas\",abs(d*.621))"
   ]
  }
 ],
 "metadata": {
  "interpreter": {
   "hash": "1f8d80d535cfd832283e4e3a1095d2ce45fe6627336684f2622a1965babb2f1c"
  },
  "kernelspec": {
   "display_name": "Python 3.9.10 64-bit (windows store)",
   "language": "python",
   "name": "python3"
  },
  "language_info": {
   "codemirror_mode": {
    "name": "ipython",
    "version": 3
   },
   "file_extension": ".py",
   "mimetype": "text/x-python",
   "name": "python",
   "nbconvert_exporter": "python",
   "pygments_lexer": "ipython3",
   "version": "3.9.10"
  },
  "orig_nbformat": 4
 },
 "nbformat": 4,
 "nbformat_minor": 2
}
