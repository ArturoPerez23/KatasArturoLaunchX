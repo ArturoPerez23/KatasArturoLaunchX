{
 "cells": [
  {
   "cell_type": "markdown",
   "metadata": {},
   "source": [
    "Modulo 8"
   ]
  },
  {
   "cell_type": "code",
   "execution_count": 1,
   "metadata": {},
   "outputs": [
    {
     "name": "stdout",
     "output_type": "stream",
     "text": [
      "el nombre del planeta es  ['marte'] y tiene  ['2 lunas']\n",
      "el  planeta   ['marte'] tiene una circunferencia de   6752\n"
     ]
    }
   ],
   "source": [
    "#ejercicio 1\n",
    "planet = { \n",
    "\"nombre\":[\"marte\"], \n",
    "\"no_lunas\":[\"2 lunas\"] }\n",
    "print(\"el nombre del planeta es \", planet[\"nombre\"], \"y tiene \", planet[\"no_lunas\"])\n",
    "planet[\"circunferencia\"]= { \"polar\":6752,\n",
    "\"ecuatorial\":6792}\n",
    "print(\"el  planeta  \", planet[\"nombre\"], \"tiene una circunferencia de  \", planet[\"circunferencia\"][\"polar\"])\n"
   ]
  }
 ],
 "metadata": {
  "interpreter": {
   "hash": "69eb92836b941e979072a76c7fcfffe5419cca933cedd02cfafbdfca1a93358c"
  },
  "kernelspec": {
   "display_name": "Python 3.9.10 64-bit",
   "language": "python",
   "name": "python3"
  },
  "language_info": {
   "codemirror_mode": {
    "name": "ipython",
    "version": 3
   },
   "file_extension": ".py",
   "mimetype": "text/x-python",
   "name": "python",
   "nbconvert_exporter": "python",
   "pygments_lexer": "ipython3",
   "version": "3.9.10"
  },
  "orig_nbformat": 4
 },
 "nbformat": 4,
 "nbformat_minor": 2
}
