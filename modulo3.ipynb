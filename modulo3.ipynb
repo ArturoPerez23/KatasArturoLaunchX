{
 "cells": [
  {
   "cell_type": "markdown",
   "metadata": {},
   "source": [
    "Modulo 3"
   ]
  },
  {
   "cell_type": "code",
   "execution_count": 1,
   "metadata": {},
   "outputs": [
    {
     "name": "stdout",
     "output_type": "stream",
     "text": [
      "\n",
      "\n",
      "\n",
      "CUIDADO ASTEROIDE SE ACERCA DEMASIADO A LA TIERRA\n"
     ]
    }
   ],
   "source": [
    "#programa 1\n",
    "v=int(input(\"escribe la velocidad del asteroide    \")) #el ususario escribe 49 :D\n",
    "if v > 25:\n",
    "    print(\"\\n\\n\\n\"\"CUIDADO ASTEROIDE SE ACERCA DEMASIADO A LA TIERRA\")\n",
    "\n",
    "else:\n",
    "    print(\"no hay peligro alguno\")\n"
   ]
  },
  {
   "cell_type": "code",
   "execution_count": 2,
   "metadata": {},
   "outputs": [
    {
     "name": "stdout",
     "output_type": "stream",
     "text": [
      "no hay nada que ver \n"
     ]
    }
   ],
   "source": [
    "#programa 2\n",
    "v=int(input(\"escribe la velocidad del asteroide    \")) #el ususario escribe 19 :D\n",
    "if v >= 20:\n",
    "    print(\"\\n\\n\\n\"\"volteen se podra observar un asteroide\")\n",
    "\n",
    "else:\n",
    "    print(\"no hay nada que ver \")\n"
   ]
  },
  {
   "cell_type": "code",
   "execution_count": 3,
   "metadata": {},
   "outputs": [
    {
     "name": "stdout",
     "output_type": "stream",
     "text": [
      "\n",
      "\n",
      "\n",
      "CUIDADO ASTEROIDE SE ACERCA DEMASIADO A LA TIERRA\n"
     ]
    }
   ],
   "source": [
    "#programa 3\n",
    "v=int(input(\"escribe la velocidad del asteroide    \")) #el usuario ingresa 25\n",
    "t=int(input(\"escribe el tamaño del asteroide    \")) #el usuario ingresa   40\n",
    "if (t  > 25 and t < 1000) or (v>25):\n",
    "    print(\"\\n\\n\\n\"\"CUIDADO ASTEROIDE SE ACERCA DEMASIADO A LA TIERRA\")\n",
    "\n",
    "elif v>=20:\n",
    "    print(\"mira arriba se observara una luz\")\n",
    "\n",
    "else:\n",
    "    print(\"no hay nada que mirar \")"
   ]
  }
 ],
 "metadata": {
  "interpreter": {
   "hash": "1f8d80d535cfd832283e4e3a1095d2ce45fe6627336684f2622a1965babb2f1c"
  },
  "kernelspec": {
   "display_name": "Python 3.9.10 64-bit (windows store)",
   "language": "python",
   "name": "python3"
  },
  "language_info": {
   "codemirror_mode": {
    "name": "ipython",
    "version": 3
   },
   "file_extension": ".py",
   "mimetype": "text/x-python",
   "name": "python",
   "nbconvert_exporter": "python",
   "pygments_lexer": "ipython3",
   "version": "3.9.10"
  },
  "orig_nbformat": 4
 },
 "nbformat": 4,
 "nbformat_minor": 2
}
