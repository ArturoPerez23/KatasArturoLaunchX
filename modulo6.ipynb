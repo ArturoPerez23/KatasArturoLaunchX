{
 "cells": [
  {
   "cell_type": "markdown",
   "metadata": {},
   "source": [
    "Modulo 6"
   ]
  },
  {
   "cell_type": "code",
   "execution_count": 3,
   "metadata": {},
   "outputs": [
    {
     "name": "stdout",
     "output_type": "stream",
     "text": [
      "el numero de planetas es 8 y estos son\n",
      "neptuno\n",
      "venus\n",
      "tierra\n",
      "marte\n",
      "jupiter\n",
      "saturno\n",
      "urano\n",
      "neptuno\n",
      "\n",
      "\n",
      " ahora el numero de planetas es  9 y estos son\n",
      "neptuno\n",
      "venus\n",
      "tierra\n",
      "marte\n",
      "jupiter\n",
      "saturno\n",
      "urano\n",
      "neptuno\n",
      "pluton\n"
     ]
    }
   ],
   "source": [
    "#ejercicio 1\n",
    "planetas=['neptuno','venus','tierra','marte','jupiter','saturno','urano','neptuno']\n",
    "NOplanetas=len(planetas)\n",
    "print(\"el numero de planetas es\", NOplanetas, \"y estos son\")\n",
    "x=0\n",
    "for x in range (0,NOplanetas):\n",
    "    print(planetas[x])\n",
    "\n",
    "planetas.append('pluton')\n",
    "NOplanetas=len(planetas)\n",
    "print(\"\\n\\n ahora el numero de planetas es \", NOplanetas, \"y estos son\")\n",
    "x=0\n",
    "for x in range (0,NOplanetas):\n",
    "    print(planetas[x])\n",
    "    \n"
   ]
  },
  {
   "cell_type": "code",
   "execution_count": 4,
   "metadata": {},
   "outputs": [
    {
     "name": "stdout",
     "output_type": "stream",
     "text": [
      "los planetas mas cercanos al sol que el ingresado marte son\n",
      "['neptuno', 'venus', 'tierra']\n",
      "los planetas mas lejanos al sol que el ingresado marte son\n",
      "['jupiter', 'saturno', 'urano', 'neptuno']\n"
     ]
    }
   ],
   "source": [
    "#ejercicio2\n",
    "planetas.pop()\n",
    "p=str(input(\"escribe un planeta    \")) \n",
    "planetas_index=planetas.index(p)\n",
    "print(\"los planetas mas cercanos al sol que el ingresado\",p, \"son\")\n",
    "print(planetas[0:planetas_index])\n",
    "print(\"los planetas mas lejanos al sol que el ingresado\",p, \"son\")\n",
    "print(planetas[planetas_index+1:])"
   ]
  }
 ],
 "metadata": {
  "interpreter": {
   "hash": "69eb92836b941e979072a76c7fcfffe5419cca933cedd02cfafbdfca1a93358c"
  },
  "kernelspec": {
   "display_name": "Python 3.9.10 64-bit",
   "language": "python",
   "name": "python3"
  },
  "language_info": {
   "codemirror_mode": {
    "name": "ipython",
    "version": 3
   },
   "file_extension": ".py",
   "mimetype": "text/x-python",
   "name": "python",
   "nbconvert_exporter": "python",
   "pygments_lexer": "ipython3",
   "version": "3.9.10"
  },
  "orig_nbformat": 4
 },
 "nbformat": 4,
 "nbformat_minor": 2
}
